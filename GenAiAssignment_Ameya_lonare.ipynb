{
  "nbformat": 4,
  "nbformat_minor": 0,
  "metadata": {
    "colab": {
      "provenance": []
    },
    "kernelspec": {
      "name": "python3",
      "display_name": "Python 3"
    },
    "language_info": {
      "name": "python"
    }
  },
  "cells": [
    {
      "cell_type": "code",
      "execution_count": 2,
      "metadata": {
        "colab": {
          "base_uri": "https://localhost:8080/"
        },
        "id": "O4VrZdoz9Iag",
        "outputId": "9e5d302c-e024-4626-9ac1-5e770c6e5110"
      },
      "outputs": [
        {
          "output_type": "stream",
          "name": "stdout",
          "text": [
            "Dynamic Symptom Dictionary:\n",
            "{'Symptom 1': ['Fever: Mild, Low, High'], 'Symptom 2': ['Cough: Mild, Low'], 'Symptom 3': ['Cold: Mild, Low, High'], 'Other Symptoms': ['Body Ache', 'Shivering', 'Head Ache', 'Nausia', 'Sickness', 'Vertigo', 'Head Ache', 'Nausia', 'Sickness', 'Vertigo, Nausia']}\n"
          ]
        }
      ],
      "source": [
        "import pandas as pd\n",
        "\n",
        "# Load the Excel file\n",
        "file_path = '/content/Auto_Regressive_Model_Diffusion_Model_V_1.0.xlsx'\n",
        "xls = pd.ExcelFile(file_path)\n",
        "\n",
        "# Load the 'Base_Data_Set' sheet\n",
        "base_data_set_full = pd.read_excel(xls, sheet_name='Base_Data_Set')\n",
        "\n",
        "# Generate a dynamic symptom dictionary from the dataset\n",
        "symptom_dict = {\n",
        "    'Symptom 1': [f\"Fever: {', '.join(base_data_set_full.iloc[1, 2:5].dropna())}\"],\n",
        "    'Symptom 2': [f\"Cough: {', '.join(base_data_set_full.iloc[1, 6:8].dropna())}\"],\n",
        "    'Symptom 3': [f\"Cold: {', '.join(base_data_set_full.iloc[1, 9:12].dropna())}\"],\n",
        "    'Other Symptoms': base_data_set_full.iloc[2:, 12].dropna().tolist()\n",
        "}\n",
        "\n",
        "# Display the dynamically created symptom dictionary\n",
        "print(\"Dynamic Symptom Dictionary:\")\n",
        "print(symptom_dict)\n"
      ]
    }
  ]
}